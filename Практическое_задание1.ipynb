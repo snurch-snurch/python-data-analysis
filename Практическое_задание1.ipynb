{
  "nbformat": 4,
  "nbformat_minor": 0,
  "metadata": {
    "colab": {
      "provenance": []
    },
    "kernelspec": {
      "name": "python3",
      "display_name": "Python 3"
    },
    "language_info": {
      "name": "python"
    }
  },
  "cells": [
    {
      "cell_type": "code",
      "execution_count": 2,
      "metadata": {
        "colab": {
          "base_uri": "https://localhost:8080/"
        },
        "id": "fWjbxisWJx9j",
        "outputId": "b30720c3-5af7-40cb-b3b4-61a28a880144"
      },
      "outputs": [
        {
          "output_type": "stream",
          "name": "stdout",
          "text": [
            "Шоколадный батончик, добавка: орехи\n",
            "Обычный шоколадный батончик\n",
            "Шоколадный батончик, 85.5 рублей\n",
            "Шоколадный батончик, 65.0 рублей\n",
            "Ошибка при создании объекта: Цена должна быть положительным числом\n"
          ]
        }
      ],
      "source": [
        "class Chocolate:\n",
        "    def __init__(self, price: float, additive: str = None):\n",
        "        if price <= 0:\n",
        "            raise ValueError(\"Цена должна быть положительным числом\")\n",
        "        self.price = price\n",
        "        self.additive = additive\n",
        "\n",
        "    def show_my_chocolate(self):\n",
        "        if self.additive:\n",
        "            print(f\"Шоколадный батончик, добавка: {self.additive}\")\n",
        "        else:\n",
        "            print(\"Обычный шоколадный батончик\")\n",
        "\n",
        "    def __str__(self):\n",
        "        return f\"Шоколадный батончик, {self.price} рублей\"\n",
        "\n",
        "if __name__ == \"__main__\":\n",
        "    choco1 = Chocolate(85.5, \"орехи\")\n",
        "    choco2 = Chocolate(65.0)\n",
        "\n",
        "    choco1.show_my_chocolate()\n",
        "    choco2.show_my_chocolate()\n",
        "\n",
        "    print(choco1)\n",
        "    print(choco2)"
      ]
    }
  ]
}